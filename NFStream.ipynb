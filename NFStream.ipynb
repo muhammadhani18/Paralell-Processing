{
  "nbformat": 4,
  "nbformat_minor": 0,
  "metadata": {
    "colab": {
      "provenance": [],
      "authorship_tag": "ABX9TyMlFna+irsZNvNxPtKR6PIn",
      "include_colab_link": true
    },
    "kernelspec": {
      "name": "python3",
      "display_name": "Python 3"
    },
    "language_info": {
      "name": "python"
    }
  },
  "cells": [
    {
      "cell_type": "markdown",
      "metadata": {
        "id": "view-in-github",
        "colab_type": "text"
      },
      "source": [
        "<a href=\"https://colab.research.google.com/github/muhammadhani18/Paralell-Processing/blob/main/NFStream.ipynb\" target=\"_parent\"><img src=\"https://colab.research.google.com/assets/colab-badge.svg\" alt=\"Open In Colab\"/></a>"
      ]
    },
    {
      "cell_type": "code",
      "execution_count": 2,
      "metadata": {
        "colab": {
          "base_uri": "https://localhost:8080/"
        },
        "id": "tBjcDBZXrkvK",
        "outputId": "e3fd80a9-cce0-410e-bde8-298560072bb8"
      },
      "outputs": [
        {
          "output_type": "stream",
          "name": "stdout",
          "text": [
            "Looking in indexes: https://pypi.org/simple, https://us-python.pkg.dev/colab-wheels/public/simple/\n",
            "Collecting nfstream\n",
            "  Downloading nfstream-6.5.3-cp39-cp39-manylinux_2_17_x86_64.manylinux2014_x86_64.whl (1.3 MB)\n",
            "\u001b[2K     \u001b[90m━━━━━━━━━━━━━━━━━━━━━━━━━━━━━━━━━━━━━━━━\u001b[0m \u001b[32m1.3/1.3 MB\u001b[0m \u001b[31m12.9 MB/s\u001b[0m eta \u001b[36m0:00:00\u001b[0m\n",
            "\u001b[?25hRequirement already satisfied: numpy>=1.19.5 in /usr/local/lib/python3.9/dist-packages (from nfstream) (1.22.4)\n",
            "Requirement already satisfied: pandas>=1.1.5 in /usr/local/lib/python3.9/dist-packages (from nfstream) (1.5.3)\n",
            "Requirement already satisfied: psutil>=5.8.0 in /usr/local/lib/python3.9/dist-packages (from nfstream) (5.9.4)\n",
            "Collecting dpkt>=1.9.7\n",
            "  Downloading dpkt-1.9.8-py3-none-any.whl (194 kB)\n",
            "\u001b[2K     \u001b[90m━━━━━━━━━━━━━━━━━━━━━━━━━━━━━━━━━━━━━━\u001b[0m \u001b[32m195.0/195.0 kB\u001b[0m \u001b[31m25.8 MB/s\u001b[0m eta \u001b[36m0:00:00\u001b[0m\n",
            "\u001b[?25hRequirement already satisfied: cffi>=1.15.0 in /usr/local/lib/python3.9/dist-packages (from nfstream) (1.15.1)\n",
            "Requirement already satisfied: pycparser in /usr/local/lib/python3.9/dist-packages (from cffi>=1.15.0->nfstream) (2.21)\n",
            "Requirement already satisfied: python-dateutil>=2.8.1 in /usr/local/lib/python3.9/dist-packages (from pandas>=1.1.5->nfstream) (2.8.2)\n",
            "Requirement already satisfied: pytz>=2020.1 in /usr/local/lib/python3.9/dist-packages (from pandas>=1.1.5->nfstream) (2022.7.1)\n",
            "Requirement already satisfied: six>=1.5 in /usr/local/lib/python3.9/dist-packages (from python-dateutil>=2.8.1->pandas>=1.1.5->nfstream) (1.16.0)\n",
            "Installing collected packages: dpkt, nfstream\n",
            "Successfully installed dpkt-1.9.8 nfstream-6.5.3\n",
            "          id  expiration_id        src_ip            src_mac   src_oui  \\\n",
            "0          0              0   192.168.0.2  00:20:af:1b:07:fa  00:20:af   \n",
            "1          1              0   192.168.0.1  00:e0:29:68:8b:fb  00:e0:29   \n",
            "2          2              0   192.168.0.1  00:e0:29:68:8b:fb  00:e0:29   \n",
            "3          3              0   192.168.0.1  73:e0:29:68:8b:fb  73:e0:29   \n",
            "4          4              0   192.168.0.2  00:20:af:1b:07:fa  00:20:af   \n",
            "...      ...            ...           ...                ...       ...   \n",
            "14014  14014              0   192.168.0.1  00:e0:29:68:8b:fb  00:e0:29   \n",
            "14015  14015              0  192.168.0.69  00:e0:29:68:8b:fb  00:e0:29   \n",
            "14016  14016              0   192.168.0.2  00:20:af:1b:07:fa  00:20:af   \n",
            "14017  14017              0   192.168.0.1  00:e0:29:68:8b:fb  00:e0:29   \n",
            "14018  14018              0   115.168.0.2  00:20:af:1b:07:fa  00:20:af   \n",
            "\n",
            "       src_port          dst_ip            dst_mac   dst_oui  dst_port  ...  \\\n",
            "0          8000     192.168.0.1  00:e0:29:68:a7:fb  00:e0:29      3064  ...   \n",
            "1          2853     192.168.0.2  00:20:af:1b:07:fa  00:20:af     29504  ...   \n",
            "2         26360     192.168.0.2  00:20:af:1b:07:fa  00:20:af      8000  ...   \n",
            "3          3065     192.168.0.2  00:20:af:1b:07:25  00:20:af      8000  ...   \n",
            "4          8032     192.168.0.1  00:6e:29:68:8b:fb  00:6e:29      3065  ...   \n",
            "...         ...             ...                ...       ...       ...  ...   \n",
            "14014      2539     192.168.0.2  00:20:af:1b:07:fa  00:20:af      8000  ...   \n",
            "14015      2539     192.168.0.2  00:20:af:1b:07:fa  00:20:af      8000  ...   \n",
            "14016      8000     192.168.0.1  00:e0:29:68:8b:fb  00:e0:29      3563  ...   \n",
            "14017      2539  192.168.37.115  00:20:af:1b:07:fa  00:20:af      8000  ...   \n",
            "14018      8000     192.168.0.1  00:e0:29:68:8b:fb  00:e0:29      2539  ...   \n",
            "\n",
            "       dst2src_bytes  application_name  application_category_name  \\\n",
            "0                 60           Unknown                Unspecified   \n",
            "1                  0              HTTP                        Web   \n",
            "2                  0           Unknown                Unspecified   \n",
            "3                456              HTTP                        Web   \n",
            "4                  0           Unknown                Unspecified   \n",
            "...              ...               ...                        ...   \n",
            "14014           9142           Unknown                Unspecified   \n",
            "14015              0              HTTP                        Web   \n",
            "14016              0           Unknown                Unspecified   \n",
            "14017              0           Unknown                Unspecified   \n",
            "14018              0           Unknown                Unspecified   \n",
            "\n",
            "       application_is_guessed  application_confidence  requested_server_name  \\\n",
            "0                           0                       0                    NaN   \n",
            "1                           0                       6            1925168.0.2   \n",
            "2                           0                       0                    NaN   \n",
            "3                           0                       6                    NaN   \n",
            "4                           0                       0                    NaN   \n",
            "...                       ...                     ...                    ...   \n",
            "14014                       0                       0                    NaN   \n",
            "14015                       0                       6                    NaN   \n",
            "14016                       0                       0                    NaN   \n",
            "14017                       0                       0                    NaN   \n",
            "14018                       0                       0                    NaN   \n",
            "\n",
            "       client_fingerprint  server_fingerprint  user_agent  content_type  \n",
            "0                     NaN                 NaN         NaN           NaN  \n",
            "1                     NaN                 NaN  Wget/1.B.3           NaN  \n",
            "2                     NaN                 NaN         NaN           NaN  \n",
            "3                     NaN                 NaN         NaN           NaN  \n",
            "4                     NaN                 NaN         NaN           NaN  \n",
            "...                   ...                 ...         ...           ...  \n",
            "14014                 NaN                 NaN         NaN           NaN  \n",
            "14015                 NaN                 NaN         NaN           NaN  \n",
            "14016                 NaN                 NaN         NaN           NaN  \n",
            "14017                 NaN                 NaN         NaN           NaN  \n",
            "14018                 NaN                 NaN         NaN           NaN  \n",
            "\n",
            "[14019 rows x 38 columns]\n"
          ]
        }
      ],
      "source": [
        "!pip install nfstream\n",
        "import nfstream\n",
        "from nfstream import *\n",
        "import csv\n",
        "import pandas as pd \n",
        "\n",
        "# Open the pcap file\n",
        "streamer = NFStreamer(source='./sample1.pcap')\n",
        "\n",
        "df = streamer.to_pandas(columns_to_anonymize=[])\n",
        "print(df)\n",
        "\n",
        "df.to_csv('./ddos.csv')\n",
        "\n"
      ]
    },
    {
      "cell_type": "code",
      "source": [
        "from sklearn.feature_selection import RFECV\n",
        "import matplotlib.pyplot as plt \n",
        "from sklearn.model_selection import train_test_split\n",
        "from sklearn.ensemble import RandomForestClassifier\n",
        "import pandas as pd\n",
        "\n",
        "df = pd.read_csv('./ddos.csv')\n",
        "\n",
        "corr_matrix = df.corr()\n",
        "#print(corr_matrix)\n",
        "\n",
        "threshold = 0.7\n",
        "for i in corr_matrix:\n",
        "    \n",
        "   important_features = corr_matrix[abs(corr_matrix[i]) > threshold].index\n",
        "\n",
        "   print(important_features)\n"
      ],
      "metadata": {
        "colab": {
          "base_uri": "https://localhost:8080/"
        },
        "id": "7Hfc_WGMw__a",
        "outputId": "462a1148-2cab-4496-ad23-f301c606b664"
      },
      "execution_count": 13,
      "outputs": [
        {
          "output_type": "stream",
          "name": "stdout",
          "text": [
            "Index([], dtype='object')\n",
            "Index(['src_port'], dtype='object')\n",
            "Index(['dst_port'], dtype='object')\n",
            "Index(['protocol'], dtype='object')\n",
            "Index(['ip_version'], dtype='object')\n",
            "Index(['vlan_id'], dtype='object')\n",
            "Index([], dtype='object')\n",
            "Index(['bidirectional_first_seen_ms', 'bidirectional_last_seen_ms',\n",
            "       'src2dst_first_seen_ms', 'src2dst_last_seen_ms'],\n",
            "      dtype='object')\n",
            "Index(['bidirectional_first_seen_ms', 'bidirectional_last_seen_ms',\n",
            "       'src2dst_first_seen_ms', 'src2dst_last_seen_ms'],\n",
            "      dtype='object')\n",
            "Index(['bidirectional_duration_ms', 'src2dst_duration_ms'], dtype='object')\n",
            "Index(['bidirectional_packets', 'bidirectional_bytes', 'src2dst_packets',\n",
            "       'dst2src_packets', 'dst2src_bytes'],\n",
            "      dtype='object')\n",
            "Index(['bidirectional_packets', 'bidirectional_bytes', 'src2dst_packets',\n",
            "       'dst2src_packets', 'dst2src_bytes'],\n",
            "      dtype='object')\n",
            "Index(['bidirectional_first_seen_ms', 'bidirectional_last_seen_ms',\n",
            "       'src2dst_first_seen_ms', 'src2dst_last_seen_ms'],\n",
            "      dtype='object')\n",
            "Index(['bidirectional_first_seen_ms', 'bidirectional_last_seen_ms',\n",
            "       'src2dst_first_seen_ms', 'src2dst_last_seen_ms'],\n",
            "      dtype='object')\n",
            "Index(['bidirectional_duration_ms', 'src2dst_duration_ms'], dtype='object')\n",
            "Index(['bidirectional_packets', 'bidirectional_bytes', 'src2dst_packets',\n",
            "       'src2dst_bytes', 'dst2src_packets'],\n",
            "      dtype='object')\n",
            "Index(['src2dst_packets', 'src2dst_bytes'], dtype='object')\n",
            "Index(['dst2src_first_seen_ms', 'dst2src_last_seen_ms'], dtype='object')\n",
            "Index(['dst2src_first_seen_ms', 'dst2src_last_seen_ms'], dtype='object')\n",
            "Index(['dst2src_duration_ms'], dtype='object')\n",
            "Index(['bidirectional_packets', 'bidirectional_bytes', 'src2dst_packets',\n",
            "       'dst2src_packets', 'dst2src_bytes'],\n",
            "      dtype='object')\n",
            "Index(['bidirectional_packets', 'bidirectional_bytes', 'dst2src_packets',\n",
            "       'dst2src_bytes'],\n",
            "      dtype='object')\n",
            "Index(['application_is_guessed'], dtype='object')\n",
            "Index(['application_confidence'], dtype='object')\n",
            "Index([], dtype='object')\n",
            "Index([], dtype='object')\n"
          ]
        },
        {
          "output_type": "stream",
          "name": "stderr",
          "text": [
            "<ipython-input-13-44d2d6ed52d7>:9: FutureWarning: The default value of numeric_only in DataFrame.corr is deprecated. In a future version, it will default to False. Select only valid columns or specify the value of numeric_only to silence this warning.\n",
            "  corr_matrix = df.corr()\n"
          ]
        }
      ]
    },
    {
      "cell_type": "markdown",
      "source": [
        "# New Section"
      ],
      "metadata": {
        "id": "hq-RrgbNNyrX"
      }
    }
  ]
}