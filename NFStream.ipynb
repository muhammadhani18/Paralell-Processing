{
  "nbformat": 4,
  "nbformat_minor": 0,
  "metadata": {
    "colab": {
      "provenance": [],
      "authorship_tag": "ABX9TyN17l3NfJomJjUx16aAzRaK",
      "include_colab_link": true
    },
    "kernelspec": {
      "name": "python3",
      "display_name": "Python 3"
    },
    "language_info": {
      "name": "python"
    }
  },
  "cells": [
    {
      "cell_type": "markdown",
      "metadata": {
        "id": "view-in-github",
        "colab_type": "text"
      },
      "source": [
        "<a href=\"https://colab.research.google.com/github/muhammadhani18/Paralell-Processing/blob/main/NFStream.ipynb\" target=\"_parent\"><img src=\"https://colab.research.google.com/assets/colab-badge.svg\" alt=\"Open In Colab\"/></a>"
      ]
    },
    {
      "cell_type": "code",
      "execution_count": 23,
      "metadata": {
        "colab": {
          "base_uri": "https://localhost:8080/"
        },
        "id": "tBjcDBZXrkvK",
        "outputId": "5cd5af6b-4cb3-4038-9483-00d54a2a30ea"
      },
      "outputs": [
        {
          "output_type": "stream",
          "name": "stdout",
          "text": [
            "Looking in indexes: https://pypi.org/simple, https://us-python.pkg.dev/colab-wheels/public/simple/\n",
            "Requirement already satisfied: nfstream in /usr/local/lib/python3.9/dist-packages (6.5.3)\n",
            "Requirement already satisfied: pandas>=1.1.5 in /usr/local/lib/python3.9/dist-packages (from nfstream) (1.5.3)\n",
            "Requirement already satisfied: numpy>=1.19.5 in /usr/local/lib/python3.9/dist-packages (from nfstream) (1.22.4)\n",
            "Requirement already satisfied: psutil>=5.8.0 in /usr/local/lib/python3.9/dist-packages (from nfstream) (5.9.4)\n",
            "Requirement already satisfied: dpkt>=1.9.7 in /usr/local/lib/python3.9/dist-packages (from nfstream) (1.9.8)\n",
            "Requirement already satisfied: cffi>=1.15.0 in /usr/local/lib/python3.9/dist-packages (from nfstream) (1.15.1)\n",
            "Requirement already satisfied: pycparser in /usr/local/lib/python3.9/dist-packages (from cffi>=1.15.0->nfstream) (2.21)\n",
            "Requirement already satisfied: pytz>=2020.1 in /usr/local/lib/python3.9/dist-packages (from pandas>=1.1.5->nfstream) (2022.7.1)\n",
            "Requirement already satisfied: python-dateutil>=2.8.1 in /usr/local/lib/python3.9/dist-packages (from pandas>=1.1.5->nfstream) (2.8.2)\n",
            "Requirement already satisfied: six>=1.5 in /usr/local/lib/python3.9/dist-packages (from python-dateutil>=2.8.1->pandas>=1.1.5->nfstream) (1.16.0)\n",
            "          id  expiration_id        src_ip            src_mac   src_oui  \\\n",
            "0          0              0   192.168.0.2  00:20:af:1b:07:fa  00:20:af   \n",
            "1          1              0   192.168.0.1  00:e0:29:68:8b:fb  00:e0:29   \n",
            "2          2              0   192.168.0.1  00:e0:29:68:8b:fb  00:e0:29   \n",
            "3          3              0   192.168.0.1  73:e0:29:68:8b:fb  73:e0:29   \n",
            "4          4              0   192.168.0.2  00:20:af:1b:07:fa  00:20:af   \n",
            "...      ...            ...           ...                ...       ...   \n",
            "16249  16249              0  192.168.0.75  00:e0:29:68:8b:fb  00:e0:29   \n",
            "16250  16250              0   192.168.0.2  00:20:af:1b:07:fa  00:20:af   \n",
            "16251  16251              0   192.168.0.2  00:20:af:1b:07:fa  00:20:af   \n",
            "16252  16252              0   192.168.0.2  00:20:af:1b:07:fa  00:20:af   \n",
            "16253  16253              0   192.168.0.2  00:20:af:1b:07:fa  00:20:af   \n",
            "\n",
            "       src_port        dst_ip            dst_mac   dst_oui  dst_port  ...  \\\n",
            "0          8000   192.168.0.1  00:e0:29:68:a7:fb  00:e0:29      3064  ...   \n",
            "1          2853   192.168.0.2  00:20:af:1b:07:fa  00:20:af     29504  ...   \n",
            "2         26360   192.168.0.2  00:20:af:1b:07:fa  00:20:af      8000  ...   \n",
            "3          3065   192.168.0.2  00:20:af:1b:07:25  00:20:af      8000  ...   \n",
            "4          8032   192.168.0.1  00:6e:29:68:8b:fb  00:6e:29      3065  ...   \n",
            "...         ...           ...                ...       ...       ...  ...   \n",
            "16249      3052   192.168.0.2  00:20:af:1b:07:fa  00:20:af      8000  ...   \n",
            "16250      8000   192.184.0.1  00:e0:29:68:8b:fb  00:e0:29      3052  ...   \n",
            "16251      8000   192.168.2.1  00:e0:29:68:8b:fb  00:e0:29      3052  ...   \n",
            "16252     29504  192.168.0.37  00:e0:29:68:8b:fb  00:e0:29      2796  ...   \n",
            "16253     26688   192.168.0.1  00:e0:29:68:8b:fb  00:e0:29      3052  ...   \n",
            "\n",
            "       splt_piat_ms  application_name  application_category_name  \\\n",
            "0        [0, 3, 35]           Unknown                Unspecified   \n",
            "1       [0, -1, -1]              HTTP                        Web   \n",
            "2       [0, -1, -1]           Unknown                Unspecified   \n",
            "3         [0, 0, 0]              HTTP                        Web   \n",
            "4       [0, -1, -1]           Unknown                Unspecified   \n",
            "...             ...               ...                        ...   \n",
            "16249   [0, -1, -1]           Unknown                Unspecified   \n",
            "16250   [0, -1, -1]           Unknown                Unspecified   \n",
            "16251   [0, -1, -1]           Unknown                Unspecified   \n",
            "16252   [0, -1, -1]           Unknown                Unspecified   \n",
            "16253   [0, -1, -1]           Unknown                Unspecified   \n",
            "\n",
            "       application_is_guessed  application_confidence  requested_server_name  \\\n",
            "0                           0                       0                    NaN   \n",
            "1                           0                       6            1925168.0.2   \n",
            "2                           0                       0                    NaN   \n",
            "3                           0                       6                    NaN   \n",
            "4                           0                       0                    NaN   \n",
            "...                       ...                     ...                    ...   \n",
            "16249                       0                       0                    NaN   \n",
            "16250                       0                       0                    NaN   \n",
            "16251                       0                       0                    NaN   \n",
            "16252                       0                       0                    NaN   \n",
            "16253                       0                       0                    NaN   \n",
            "\n",
            "       client_fingerprint  server_fingerprint  user_agent  content_type  \n",
            "0                     NaN                 NaN         NaN           NaN  \n",
            "1                     NaN                 NaN  Wget/1.B.3           NaN  \n",
            "2                     NaN                 NaN         NaN           NaN  \n",
            "3                     NaN                 NaN         NaN           NaN  \n",
            "4                     NaN                 NaN         NaN           NaN  \n",
            "...                   ...                 ...         ...           ...  \n",
            "16249                 NaN                 NaN         NaN           NaN  \n",
            "16250                 NaN                 NaN         NaN           NaN  \n",
            "16251                 NaN                 NaN         NaN           NaN  \n",
            "16252                 NaN                 NaN         NaN           NaN  \n",
            "16253                 NaN                 NaN         NaN           NaN  \n",
            "\n",
            "[16254 rows x 89 columns]\n"
          ]
        }
      ],
      "source": [
        "!pip install nfstream\n",
        "import nfstream\n",
        "from nfstream import *\n",
        "import csv\n",
        "import pandas as pd \n",
        "\n",
        "# Open the pcap file\n",
        "streamer = NFStreamer(source='./sample1.pcap',  statistical_analysis=True,splt_analysis=3)\n",
        "\n",
        "df = streamer.to_pandas(columns_to_anonymize=[])\n",
        "print(df)\n",
        "\n",
        "df.to_csv('./ddos.csv')\n",
        "\n"
      ]
    },
    {
      "cell_type": "code",
      "source": [
        "from sklearn.feature_selection import RFECV\n",
        "import matplotlib.pyplot as plt \n",
        "from sklearn.model_selection import train_test_split\n",
        "from sklearn.ensemble import RandomForestClassifier\n",
        "import pandas as pd\n",
        "\n",
        "df = pd.read_csv('./ddos.csv')\n",
        "\n",
        "corr_matrix = df.corr()\n",
        "#print(corr_matrix)\n",
        "\n",
        "threshold = 0.7\n",
        "for i in corr_matrix:\n",
        "   \n",
        "   important_features = corr_matrix[abs(corr_matrix[i]) > threshold].index\n",
        "\n",
        "   print(important_features)\n"
      ],
      "metadata": {
        "colab": {
          "base_uri": "https://localhost:8080/"
        },
        "id": "7Hfc_WGMw__a",
        "outputId": "b2fc07ce-daf2-41c4-e5d6-1d46ba91727f"
      },
      "execution_count": null,
      "outputs": [
        {
          "output_type": "stream",
          "name": "stdout",
          "text": [
            "Index(['expiration_id'], dtype='object')\n",
            "Index(['src_port'], dtype='object')\n",
            "Index(['dst_port'], dtype='object')\n",
            "Index(['protocol'], dtype='object')\n",
            "Index(['ip_version'], dtype='object')\n",
            "Index(['vlan_id'], dtype='object')\n",
            "Index([], dtype='object')\n",
            "Index(['bidirectional_first_seen_ms', 'bidirectional_last_seen_ms',\n",
            "       'src2dst_first_seen_ms', 'src2dst_last_seen_ms'],\n",
            "      dtype='object')\n",
            "Index(['bidirectional_first_seen_ms', 'bidirectional_last_seen_ms',\n",
            "       'src2dst_first_seen_ms', 'src2dst_last_seen_ms'],\n",
            "      dtype='object')\n",
            "Index(['bidirectional_duration_ms', 'src2dst_duration_ms'], dtype='object')\n",
            "Index(['bidirectional_packets', 'bidirectional_bytes', 'src2dst_packets',\n",
            "       'dst2src_packets', 'dst2src_bytes'],\n",
            "      dtype='object')\n",
            "Index(['bidirectional_packets', 'bidirectional_bytes', 'src2dst_packets',\n",
            "       'dst2src_packets', 'dst2src_bytes'],\n",
            "      dtype='object')\n",
            "Index(['bidirectional_first_seen_ms', 'bidirectional_last_seen_ms',\n",
            "       'src2dst_first_seen_ms', 'src2dst_last_seen_ms'],\n",
            "      dtype='object')\n",
            "Index(['bidirectional_first_seen_ms', 'bidirectional_last_seen_ms',\n",
            "       'src2dst_first_seen_ms', 'src2dst_last_seen_ms'],\n",
            "      dtype='object')\n",
            "Index(['bidirectional_duration_ms', 'src2dst_duration_ms'], dtype='object')\n",
            "Index(['bidirectional_packets', 'bidirectional_bytes', 'src2dst_packets',\n",
            "       'src2dst_bytes', 'dst2src_packets'],\n",
            "      dtype='object')\n",
            "Index(['src2dst_packets', 'src2dst_bytes'], dtype='object')\n",
            "Index(['dst2src_first_seen_ms', 'dst2src_last_seen_ms'], dtype='object')\n",
            "Index(['dst2src_first_seen_ms', 'dst2src_last_seen_ms'], dtype='object')\n",
            "Index(['dst2src_duration_ms'], dtype='object')\n",
            "Index(['bidirectional_packets', 'bidirectional_bytes', 'src2dst_packets',\n",
            "       'dst2src_packets', 'dst2src_bytes'],\n",
            "      dtype='object')\n",
            "Index(['bidirectional_packets', 'bidirectional_bytes', 'dst2src_packets',\n",
            "       'dst2src_bytes'],\n",
            "      dtype='object')\n",
            "Index(['application_is_guessed'], dtype='object')\n",
            "Index(['application_confidence'], dtype='object')\n",
            "Index([], dtype='object')\n",
            "Index([], dtype='object')\n"
          ]
        },
        {
          "output_type": "stream",
          "name": "stderr",
          "text": [
            "<ipython-input-16-79127f16e49f>:9: FutureWarning: The default value of numeric_only in DataFrame.corr is deprecated. In a future version, it will default to False. Select only valid columns or specify the value of numeric_only to silence this warning.\n",
            "  corr_matrix = df.corr()\n"
          ]
        }
      ]
    },
    {
      "cell_type": "code",
      "source": [
        "import pandas as pd\n"
      ],
      "metadata": {
        "id": "jmUD8Nlw1V_O"
      },
      "execution_count": null,
      "outputs": []
    }
  ]
}